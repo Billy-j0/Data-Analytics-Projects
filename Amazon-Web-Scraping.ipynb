{
 "cells": [
  {
   "cell_type": "markdown",
   "id": "415c2d4a",
   "metadata": {},
   "source": [
    "# Importing libraries"
   ]
  },
  {
   "cell_type": "code",
   "execution_count": 1,
   "id": "66d62973",
   "metadata": {},
   "outputs": [],
   "source": [
    "from bs4 import BeautifulSoup\n",
    "import requests\n",
    "import time\n",
    "import datetime"
   ]
  },
  {
   "cell_type": "markdown",
   "id": "df9d8d0c",
   "metadata": {},
   "source": [
    "# Connecting to Amazon and pulling the data\n"
   ]
  },
  {
   "cell_type": "code",
   "execution_count": 16,
   "id": "409f37f2",
   "metadata": {},
   "outputs": [
    {
     "name": "stdout",
     "output_type": "stream",
     "text": [
      "\n",
      "            iQOO Z3 5G (Ace Black, 6GB RAM, 128GB Storage) | India's First SD 768G 5G Processor | 55W FlashCharge | Upto 9 Months No Cost EMI | 6 Months Free Screen Replacement\n",
      "           \n",
      "\n",
      "               ₹19,990.00\n",
      "              \n"
     ]
    }
   ],
   "source": [
    "URL = 'https://www.amazon.in/iQOO-Storage-Processor-FlashCharge-Replacement/dp/B07WHR5RKH/ref=sr_1_9?crid=3GKU3JU5OM6RC&keywords=poco+x3+pro&qid=1637471471&qsid=261-2514805-2558054&s=electronics&sprefix=pocp+x%2Celectronics%2C332&sr=1-9&sres=B09DFQSSRG%2CB09DFQYSJ6%2CB09BR88N5Y%2CB07WHS6QT7%2CB089MTR9K7%2CB07WJTMPPP%2CB08444S68L%2CB09FQ4NQ56%2CB07WHR5RKH%2CB089MSPF7Q%2CB09HXZCYL2%2CB09JG89LHZ%2CB089MTNXBM%2CB09GFPVD9Y%2CB09CZBLJ66%2CB09CGJK2HG%2CB08VB2SJ76%2CB09GFMFTHS%2CB096LS7N6Z%2CB0948NFSWX&srpt=CELLULAR_PHONE'\n",
    "\n",
    "headers = {\"User-Agent\": \"Mozilla/5.0 (Windows NT 10.0; Win64; x64) AppleWebKit/537.36 (KHTML, like Gecko) Chrome/96.0.4664.45 Safari/537.36\"}\n",
    "\n",
    "page = requests.get(URL, headers=headers)\n",
    "\n",
    "soup1 = BeautifulSoup(page.content, \"html.parser\")\n",
    "\n",
    "soup2 = BeautifulSoup(soup1.prettify(), \"html.parser\")\n",
    "\n",
    "title = soup2.find(id='productTitle').get_text()\n",
    "\n",
    "price = soup2.find(id='priceblock_ourprice').get_text()\n",
    "\n",
    "print(title)\n",
    "\n",
    "print(price)"
   ]
  },
  {
   "cell_type": "markdown",
   "id": "6f4a9fb9",
   "metadata": {},
   "source": [
    "## Cleaning the data"
   ]
  },
  {
   "cell_type": "code",
   "execution_count": 17,
   "id": "9e9c26cb",
   "metadata": {},
   "outputs": [
    {
     "name": "stdout",
     "output_type": "stream",
     "text": [
      "iQOO Z3 5G (Ace Black, 6GB RAM, 128GB Storage) | India's First SD 768G 5G Processor | 55W FlashCharge | Upto 9 Months No Cost EMI | 6 Months Free Screen Replacement\n",
      "19,990.00\n"
     ]
    }
   ],
   "source": [
    "price = price.strip()[1:]\n",
    "title = title.strip()\n",
    "\n",
    "print(title)\n",
    "print(price)\n"
   ]
  },
  {
   "cell_type": "markdown",
   "id": "6d62881e",
   "metadata": {},
   "source": [
    "## Creating a Timestamp for your output to track when data was collected\n"
   ]
  },
  {
   "cell_type": "code",
   "execution_count": 18,
   "id": "bbd3f66b",
   "metadata": {},
   "outputs": [
    {
     "name": "stdout",
     "output_type": "stream",
     "text": [
      "2021-11-21\n"
     ]
    }
   ],
   "source": [
    "today = datetime.date.today()\n",
    "\n",
    "print(today)"
   ]
  },
  {
   "cell_type": "markdown",
   "id": "28a4f770",
   "metadata": {},
   "source": [
    "# Creating a CSV file  and writing headers and data into the file"
   ]
  },
  {
   "cell_type": "code",
   "execution_count": 19,
   "id": "60cbdefd",
   "metadata": {},
   "outputs": [],
   "source": [
    "import csv \n",
    "\n",
    "header = ['Title', 'Price', 'Date']\n",
    "data = [title, price, today]\n",
    "\n",
    "\n",
    "with open('AmazonWebScraperDataset.csv', 'w', newline='', encoding='UTF8') as f:\n",
    "    writer = csv.writer(f)\n",
    "    writer.writerow(header)\n",
    "    writer.writerow(data)\n",
    "    "
   ]
  },
  {
   "cell_type": "markdown",
   "id": "e6b558e2",
   "metadata": {},
   "source": [
    "## Appending data to the csv"
   ]
  },
  {
   "cell_type": "code",
   "execution_count": 20,
   "id": "ff163d70",
   "metadata": {},
   "outputs": [],
   "source": [
    "with open('AmazonWebScraperDataset.csv', 'a+', newline='', encoding='UTF8') as f:\n",
    "    writer = csv.writer(f)\n",
    "    writer.writerow(data)"
   ]
  },
  {
   "cell_type": "markdown",
   "id": "9e07015b",
   "metadata": {},
   "source": [
    "## Defining a funtion and combining all of the above code into one function"
   ]
  },
  {
   "cell_type": "code",
   "execution_count": 22,
   "id": "cc334799",
   "metadata": {},
   "outputs": [],
   "source": [
    "def check_price():\n",
    "    URL = 'https://www.amazon.in/iQOO-Storage-Processor-FlashCharge-Replacement/dp/B07WHR5RKH/ref=sr_1_9?crid=3GKU3JU5OM6RC&keywords=poco+x3+pro&qid=1637471471&qsid=261-2514805-2558054&s=electronics&sprefix=pocp+x%2Celectronics%2C332&sr=1-9&sres=B09DFQSSRG%2CB09DFQYSJ6%2CB09BR88N5Y%2CB07WHS6QT7%2CB089MTR9K7%2CB07WJTMPPP%2CB08444S68L%2CB09FQ4NQ56%2CB07WHR5RKH%2CB089MSPF7Q%2CB09HXZCYL2%2CB09JG89LHZ%2CB089MTNXBM%2CB09GFPVD9Y%2CB09CZBLJ66%2CB09CGJK2HG%2CB08VB2SJ76%2CB09GFMFTHS%2CB096LS7N6Z%2CB0948NFSWX&srpt=CELLULAR_PHONE'\n",
    "    \n",
    "    headers = {\"User-Agent\": \"Mozilla/5.0 (Windows NT 10.0; Win64; x64) AppleWebKit/537.36 (KHTML, like Gecko) Chrome/96.0.4664.45 Safari/537.36\"}\n",
    "\n",
    "    page = requests.get(URL, headers=headers)\n",
    "\n",
    "    soup1 = BeautifulSoup(page.content, \"html.parser\")\n",
    "\n",
    "    soup2 = BeautifulSoup(soup1.prettify(), \"html.parser\")\n",
    "\n",
    "    title = soup2.find(id='productTitle').get_text()\n",
    "\n",
    "    price = soup2.find(id='priceblock_ourprice').get_text()\n",
    "   \n",
    "    price = price.strip()[1:]\n",
    "    \n",
    "    title = title.strip()\n",
    "    \n",
    "    \n",
    "    import csv \n",
    "    \n",
    "    header = ['Title', 'Price', 'Date']\n",
    "    \n",
    "    data = [title, price, today]\n",
    "    \n",
    "    with open('AmazonWebScraperDataset.csv', 'a+', newline='', encoding='UTF8') as f:\n",
    "        writer = csv.writer(f)\n",
    "        writer.writerow(data)\n",
    "        \n",
    "        if (price < 18000):\n",
    "            send_mail()\n",
    "    "
   ]
  },
  {
   "cell_type": "markdown",
   "id": "12eb3900",
   "metadata": {},
   "source": [
    "# Runs check_price after a set time and inputs data into the  CSV"
   ]
  },
  {
   "cell_type": "code",
   "execution_count": null,
   "id": "2a9dd2ab",
   "metadata": {},
   "outputs": [],
   "source": [
    "while(True):\n",
    "    check_price()\n",
    "    time.sleep(86400)"
   ]
  },
  {
   "cell_type": "markdown",
   "id": "e5baae22",
   "metadata": {},
   "source": [
    "# Sending a email when the price of the product hits below a certain level"
   ]
  },
  {
   "cell_type": "code",
   "execution_count": null,
   "id": "4dd39327",
   "metadata": {},
   "outputs": [],
   "source": [
    "def send_mail():\n",
    "    server = smtplib.SMTP_SSL('smtp.gmail.com',465)\n",
    "    server.ehlo()\n",
    "    #server.starttls()\n",
    "    server.ehlo()\n",
    "    server.login('williamjonson077@gmail.com','xxxxxxxxxxxxxx')\n",
    "    \n",
    "    subject = \" Price dropped on iQOO Z3 5G \"\n",
    "    body = \" Buy now before this offer expires, link : https://www.amazon.in/iQOO-Storage-Processor-FlashCharge-Replacement/dp/B07WHR5RKH/ref=sr_1_9?crid=3GKU3JU5OM6RC&keywords=poco+x3+pro&qid=1637471471&qsid=261-2514805-2558054&s=electronics&sprefix=pocp+x%2Celectronics%2C332&sr=1-9&sres=B09DFQSSRG%2CB09DFQYSJ6%2CB09BR88N5Y%2CB07WHS6QT7%2CB089MTR9K7%2CB07WJTMPPP%2CB08444S68L%2CB09FQ4NQ56%2CB07WHR5RKH%2CB089MSPF7Q%2CB09HXZCYL2%2CB09JG89LHZ%2CB089MTNXBM%2CB09GFPVD9Y%2CB09CZBLJ66%2CB09CGJK2HG%2CB08VB2SJ76%2CB09GFMFTHS%2CB096LS7N6Z%2CB0948NFSWX&srpt=CELLULAR_PHONE\"\n",
    "   \n",
    "    msg = f\"Subject: {subject}\\n\\n{body}\"\n",
    "    \n",
    "    server.sendmail(\n",
    "        'williamjohnson077@gmail.com',\n",
    "        msg\n",
    "     \n",
    "    )"
   ]
  }
 ],
 "metadata": {
  "kernelspec": {
   "display_name": "Python 3 (ipykernel)",
   "language": "python",
   "name": "python3"
  },
  "language_info": {
   "codemirror_mode": {
    "name": "ipython",
    "version": 3
   },
   "file_extension": ".py",
   "mimetype": "text/x-python",
   "name": "python",
   "nbconvert_exporter": "python",
   "pygments_lexer": "ipython3",
   "version": "3.9.6"
  }
 },
 "nbformat": 4,
 "nbformat_minor": 5
}
